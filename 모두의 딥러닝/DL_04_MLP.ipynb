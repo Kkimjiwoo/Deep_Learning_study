{
  "cells": [
    {
      "cell_type": "markdown",
      "metadata": {
        "id": "YFg9TVF8Ru_5"
      },
      "source": [
        "7장. 퍼셉트론과 인공지능의 시작\n",
        "\n",
        "8장. 다층 퍼셉트론"
      ]
    },
    {
      "cell_type": "code",
      "execution_count": 2,
      "metadata": {
        "id": "b9klnIKHKdUj"
      },
      "outputs": [],
      "source": [
        "# MLP(Multi-layer Perceptron : 다층 퍼셉트론)\n",
        "\n",
        "# 미션: 다층 퍼셉트론으로 XOR 문제 해결\n",
        "\n",
        "import pandas as pd\n",
        "import numpy as np"
      ]
    },
    {
      "cell_type": "code",
      "execution_count": 3,
      "metadata": {
        "id": "T6aL_z2QKsPX"
      },
      "outputs": [],
      "source": [
        "# 가중치와 바이어스 설정(임의 값)\n",
        "w11 = np.array([-2,-2]) # NAND 게이트 계산\n",
        "w12 = np.array([2,2])   # OR 게이트 계산\n",
        "w2 = np.array([1,1])    # AND 게이트 계산\n",
        "\n",
        "b1 = 3\n",
        "b2 = -1\n",
        "b3 = -1\n",
        "\n",
        "# 가중합 값들이 모이는 은닉층의 중간 정거장 노드"
      ]
    },
    {
      "cell_type": "code",
      "execution_count": 1,
      "metadata": {
        "id": "oug0CJ8CK3V4"
      },
      "outputs": [],
      "source": [
        "# perceptorn\n",
        "\n",
        "def MLP(x,w,b):\n",
        "  y = np.sum(w*x) + b   # 가중합\n",
        "  if y <= 0:\n",
        "    return 0\n",
        "  else:\n",
        "    return 1\n",
        "# 0 또는 1을 반환\n",
        "# NAND\n",
        "# (-2*X) + (-2*X) + 3\n",
        "\n",
        "# OR\n",
        "# (2*X) + (2*X) - 1\n",
        "\n",
        "# AND\n",
        "# (1*X) + (1*X) - 1"
      ]
    },
    {
      "cell_type": "code",
      "execution_count": 4,
      "metadata": {
        "id": "p3hbAZYPLKao"
      },
      "outputs": [],
      "source": [
        "# XOR 문제 해결을 위한 게이트 설정\n",
        "\n",
        "# ANN(NAND, OR) >> XOR\n",
        "\n",
        "# NAND\n",
        "def NAND(x1, x2):\n",
        "  return MLP(np.array([x1,x2]), w11, b1)\n",
        "# 0이 하나라도 있으면 1\n",
        "\n",
        "# OR\n",
        "def OR(x1, x2):\n",
        "  return MLP(np.array([x1,x2]), w12, b2)\n",
        "\n",
        "# AND\n",
        "def AND(x1, x2):\n",
        "  return MLP(np.array([x1,x2]), w2, b3)\n",
        "\n",
        "\n",
        "# XOR\n",
        "def XOR(x1, x2):\n",
        "  return AND(NAND(x1,x2), OR(x1,x2))"
      ]
    },
    {
      "cell_type": "code",
      "execution_count": 5,
      "metadata": {
        "colab": {
          "base_uri": "https://localhost:8080/"
        },
        "id": "ti_gYMYLL41_",
        "outputId": "0fbb4f80-ee65-4636-c497-777a7b08e5bf"
      },
      "outputs": [
        {
          "name": "stdout",
          "output_type": "stream",
          "text": [
            "입력값: (0, 0)출력값:0\n",
            "입력값: (1, 0)출력값:1\n",
            "입력값: (0, 1)출력값:1\n",
            "입력값: (1, 1)출력값:0\n"
          ]
        }
      ],
      "source": [
        "# x1, x2값을 번갈아 대입 >> 최종 값 출력\n",
        "\n",
        "for x in [(0,0), (1,0),(0,1),(1,1)]:\n",
        "  y = XOR(x[0], x[1])\n",
        "  print('입력값: '+ str(x) + '출력값:' + str(y))"
      ]
    },
    {
      "cell_type": "code",
      "execution_count": 5,
      "metadata": {
        "id": "p4r9xS96MS_S"
      },
      "outputs": [],
      "source": [
        "# 입력값(0, 1) 일 때,\n",
        "# NAND >> 1\n",
        "# (-2*X) + (-2*X) + 3\n",
        "# X = 0 >> 3 >> 1\n",
        "# X = 1 >> -1 >> 0\n",
        "# OR >> 1\n",
        "# (2*X) + (2*X) - 1\n",
        "# X = 0 >> -1 >> 0\n",
        "# X = 1 >> 3 >> 1\n",
        "\n",
        "# 1과 1을 AND 계산을 하면 출력값 1"
      ]
    }
  ],
  "metadata": {
    "colab": {
      "provenance": []
    },
    "kernelspec": {
      "display_name": "Python 3",
      "name": "python3"
    },
    "language_info": {
      "name": "python"
    }
  },
  "nbformat": 4,
  "nbformat_minor": 0
}
